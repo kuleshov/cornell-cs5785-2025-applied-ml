{
 "cells": [
  {
   "cell_type": "markdown",
   "metadata": {
    "colab_type": "text",
    "id": "i_f5u2x9nn6I",
    "slideshow": {
     "slide_type": "slide"
    }
   },
   "source": [
    "<style type=\"text/css\">\n",
    ".reveal h1 { \n",
    "    font-size: 2em;\n",
    "}\n",
    "</style>\n",
    "\n",
    "<left><img width=25% src=\"img/cornell_tech2.svg\"></left>\n",
    "\n",
    "# Lecture 2: Supervised Machine Learning\n",
    "\n",
    "### Applied Machine Learning\n",
    "\n",
    "__Volodymyr Kuleshov__"
   ]
  },
  {
   "cell_type": "markdown",
   "metadata": {
    "slideshow": {
     "slide_type": "slide"
    }
   },
   "source": [
    "# Announcements\n",
    "\n",
    "* Homework 0 has been out on Gradescope\n",
    "* Homework 1 will be released today"
   ]
  },
  {
   "cell_type": "markdown",
   "metadata": {
    "slideshow": {
     "slide_type": "slide"
    }
   },
   "source": [
    "# Recall: Supervised Learning\n",
    "\n",
    "The most common approach to machine learning is supervised learning.\n",
    "\n",
    "<center><img width=70% src=\"img/tesla_data.png\"/></center>\n",
    "\n",
    "1. First, we collect a dataset of labeled training examples.\n",
    "2. We train a model to output accurate predictions on this dataset.\n",
    "3. When the model sees new, similar data, it will also be accurate."
   ]
  },
  {
   "cell_type": "markdown",
   "metadata": {
    "slideshow": {
     "slide_type": "slide"
    }
   },
   "source": [
    "# Part 1: An Example of a Supervised Machine Learning Problem\n",
    "\n",
    "Let’s start by dissecting a simple example of a supervised learning problem."
   ]
  },
  {
   "cell_type": "markdown",
   "metadata": {
    "slideshow": {
     "slide_type": "slide"
    }
   },
   "source": [
    "# A Recipe for Applying Supervised Learning\n",
    "\n",
    "To apply supervised learning, we define a dataset and a learning algorithm.\n",
    "\n",
    "$$ \\text{Dataset} + \\text{Learning Algorithm} \\to \\text{Predictive Model} $$\n",
    "\n",
    "The output is a predictive model that maps inputs to targets. For instance, it can predict targets on new inputs."
   ]
  },
  {
   "cell_type": "markdown",
   "metadata": {
    "slideshow": {
     "slide_type": "slide"
    }
   },
   "source": [
    "# A Supervised Learning Dataset\n",
    "\n",
    "Let’s start with a simple example of a supervised learning problem: predicting diabetes risk.\n",
    "\n",
    "We start with a dataset of diabetes patients. \n",
    "* __Input:__ For each patient we have a access to their BMI and an estimate of diabetes risk (from 0-400).\n",
    "* __Output:__ We are interested in understanding how BMI affects an individual's diabetes risk."
   ]
  },
  {
   "cell_type": "code",
   "execution_count": 1,
   "metadata": {
    "slideshow": {
     "slide_type": "subslide"
    }
   },
   "outputs": [
    {
     "data": {
      "text/html": [
       "<div>\n",
       "<style scoped>\n",
       "    .dataframe tbody tr th:only-of-type {\n",
       "        vertical-align: middle;\n",
       "    }\n",
       "\n",
       "    .dataframe tbody tr th {\n",
       "        vertical-align: top;\n",
       "    }\n",
       "\n",
       "    .dataframe thead th {\n",
       "        text-align: right;\n",
       "    }\n",
       "</style>\n",
       "<table border=\"1\" class=\"dataframe\">\n",
       "  <thead>\n",
       "    <tr style=\"text-align: right;\">\n",
       "      <th></th>\n",
       "      <th>bmi</th>\n",
       "      <th>target</th>\n",
       "    </tr>\n",
       "  </thead>\n",
       "  <tbody>\n",
       "    <tr>\n",
       "      <th>422</th>\n",
       "      <td>27.34</td>\n",
       "      <td>233.00</td>\n",
       "    </tr>\n",
       "    <tr>\n",
       "      <th>423</th>\n",
       "      <td>23.81</td>\n",
       "      <td>91.00</td>\n",
       "    </tr>\n",
       "    <tr>\n",
       "      <th>424</th>\n",
       "      <td>25.33</td>\n",
       "      <td>111.00</td>\n",
       "    </tr>\n",
       "    <tr>\n",
       "      <th>425</th>\n",
       "      <td>23.78</td>\n",
       "      <td>152.00</td>\n",
       "    </tr>\n",
       "    <tr>\n",
       "      <th>426</th>\n",
       "      <td>23.97</td>\n",
       "      <td>120.00</td>\n",
       "    </tr>\n",
       "  </tbody>\n",
       "</table>\n",
       "</div>"
      ],
      "text/plain": [
       "      bmi  target\n",
       "422 27.34  233.00\n",
       "423 23.81   91.00\n",
       "424 25.33  111.00\n",
       "425 23.78  152.00\n",
       "426 23.97  120.00"
      ]
     },
     "execution_count": 1,
     "metadata": {},
     "output_type": "execute_result"
    }
   ],
   "source": [
    "import numpy as np\n",
    "import pandas as pd; pd.options.display.float_format = \"{:,.2f}\".format\n",
    "from sklearn import datasets\n",
    "\n",
    "# We will use the UCI Diabetes Dataset\n",
    "# It's a toy dataset often used to demo ML algorithms.\n",
    "diabetes_X, diabetes_y = datasets.load_diabetes(return_X_y=True, as_frame=True)\n",
    "\n",
    "# Use only the BMI feature\n",
    "diabetes_X = diabetes_X.loc[:, ['bmi']]\n",
    "\n",
    "# The BMI is zero-centered and normalized; we recenter it for ease of presentation\n",
    "diabetes_X = diabetes_X * 30 + 25\n",
    "\n",
    "# Collect 20 data points\n",
    "diabetes_X_train = diabetes_X.iloc[-20:]\n",
    "diabetes_y_train = diabetes_y.iloc[-20:]\n",
    "\n",
    "# Display some of the data points\n",
    "pd.concat([diabetes_X_train, diabetes_y_train], axis=1).head()"
   ]
  },
  {
   "cell_type": "markdown",
   "metadata": {
    "slideshow": {
     "slide_type": "subslide"
    }
   },
   "source": [
    "We can also visualize this two-dimensional dataset."
   ]
  },
  {
   "cell_type": "code",
   "execution_count": 2,
   "metadata": {
    "slideshow": {
     "slide_type": "fragment"
    }
   },
   "outputs": [
    {
     "data": {
      "image/png": "[encoded data removed]",
      "text/plain": [
       "<Figure size 1000x375 with 1 Axes>"
      ]
     },
     "metadata": {},
     "output_type": "display_data"
    }
   ],
   "source": [
    "import matplotlib.pyplot as plt\n",
    "plt.rcParams.update({ \"figure.figsize\": [8, 3], \"figure.dpi\": 125, \"text.usetex\": True, \"font.family\": \"Helvetica\" })\n",
    "\n",
    "plt.scatter(diabetes_X_train, diabetes_y_train,  color='black')\n",
    "plt.xlabel('Body Mass Index (BMI)')\n",
    "plt.ylabel('Diabetes Risk');"
   ]
  },
  {
   "cell_type": "markdown",
   "metadata": {
    "slideshow": {
     "slide_type": "slide"
    }
   },
   "source": [
    "# The Model Family\n",
    "\n",
    "Let's assume that risk is a linear function of BMI. In other words, for some unknown $\\theta_0, \\theta_1 \\in \\mathbb{R}$, we have\n",
    "$$ y = \\theta_1 \\cdot x + \\theta_0, $$\n",
    "where $x$ is the BMI (also called the independent variable), and $y$ is the diabetes risk score (the dependent variable). \n",
    "\n",
    "The parameters $\\theta_1, \\theta_0$ are the slope and the intercept of the line relates $x$ to $y$."
   ]
  },
  {
   "cell_type": "markdown",
   "metadata": {
    "slideshow": {
     "slide_type": "subslide"
    }
   },
   "source": [
    "We can visualize this for a few values of $\\theta_1, \\theta_0$."
   ]
  },
  {
   "cell_type": "code",
   "execution_count": 3,
   "metadata": {
    "slideshow": {
     "slide_type": "fragment"
    }
   },
   "outputs": [
    {
     "data": {
      "image/png": "[encoded data removed]",
      "text/plain": [
       "<Figure size 1000x375 with 1 Axes>"
      ]
     },
     "metadata": {},
     "output_type": "display_data"
    }
   ],
   "source": [
    "theta_list = [(1, 2), (2,1), (1,0), (0,1)]\n",
    "for theta0, theta1 in theta_list:\n",
    "    x = np.arange(10)\n",
    "    y = theta1 * x + theta0\n",
    "    plt.plot(x,y, label=f'intercept={theta0}, slope={theta1}')\n",
    "plt.xlabel('$x$ (BMI)'); plt.ylabel('$y$ (diabetes risk score)'); plt.legend();"
   ]
  },
  {
   "cell_type": "markdown",
   "metadata": {
    "slideshow": {
     "slide_type": "slide"
    }
   },
   "source": [
    "# A Supervised Learning Algorithm: The Optimizer\n",
    "\n",
    "Given our assumption that $x,y$ follow a linear relationship, the goal of a supervised learning algorithm is to find a good set of parameters consistent with the data.\n",
    "\n",
    "This is an optimization problem."
   ]
  },
  {
   "cell_type": "markdown",
   "metadata": {
    "slideshow": {
     "slide_type": "fragment"
    }
   },
   "source": [
    "For now, let's call the `sklearn.linear_model` library to find a $\\theta_1, \\theta_0$ that fit the data well."
   ]
  },
  {
   "cell_type": "code",
   "execution_count": 4,
   "metadata": {
    "slideshow": {
     "slide_type": "subslide"
    }
   },
   "outputs": [
    {
     "name": "stdout",
     "output_type": "stream",
     "text": [
      "Slope (theta1): 37.38\n",
      "Intercept (theta0): -797.08\n"
     ]
    }
   ],
   "source": [
    "from sklearn import linear_model\n",
    "from sklearn.metrics import mean_squared_error\n",
    "\n",
    "# Create linear regression object\n",
    "regr = linear_model.LinearRegression()\n",
    "\n",
    "# Train the model using the training sets\n",
    "regr.fit(diabetes_X_train, diabetes_y_train.values)\n",
    "\n",
    "# Make predictions on the training set\n",
    "diabetes_y_train_pred_bmi_only = regr.predict(diabetes_X_train)\n",
    "\n",
    "# The coefficients\n",
    "print(f'Slope (theta1): {regr.coef_[0]:.2f}')\n",
    "print(f'Intercept (theta0): {regr.intercept_:.2f}')"
   ]
  },
  {
   "cell_type": "markdown",
   "metadata": {
    "slideshow": {
     "slide_type": "slide"
    }
   },
   "source": [
    "# A Supervised Learning Model (over scalar data)\n",
    "\n",
    "The supervised learning algorithm gave us a pair of parameters $\\theta_1^*, \\theta_0^*$. These define the *predictive model* $f^*$, defined as\n",
    "$$ f(x) = \\theta_1^* \\cdot x + \\theta_0^*, $$\n",
    "where again $x$ is the BMI, and $y$ is the diabetes risk score."
   ]
  },
  {
   "cell_type": "markdown",
   "metadata": {
    "colab_type": "text",
    "id": "k59_taGfnn6K",
    "slideshow": {
     "slide_type": "subslide"
    }
   },
   "source": [
    "We can visualize the linear model that best fits our data."
   ]
  },
  {
   "cell_type": "code",
   "execution_count": 24,
   "metadata": {
    "slideshow": {
     "slide_type": "fragment"
    }
   },
   "outputs": [
    {
     "data": {
      "image/png": "[encoded data removed]",
      "text/plain": [
       "<Figure size 1000x375 with 1 Axes>"
      ]
     },
     "metadata": {},
     "output_type": "display_data"
    }
   ],
   "source": [
    "plt.xlabel('Body Mass Index (BMI)')\n",
    "plt.ylabel('Diabetes Risk')\n",
    "plt.scatter(diabetes_X_train, diabetes_y_train, label='Data')\n",
    "label = fr'Model --- slope ($\\theta_1$) is ${regr.coef_[0]:.2f}$, intercept ($\\theta_0$) is ${regr.intercept_:.2f}$'\n",
    "plt.plot(diabetes_X_train, diabetes_y_train_pred_bmi_only, color='black', linewidth=2,\n",
    "         label=label)\n",
    "plt.legend();"
   ]
  },
  {
   "cell_type": "markdown",
   "metadata": {
    "slideshow": {
     "slide_type": "slide"
    }
   },
   "source": [
    "# Making New Predictions\n",
    "\n",
    "Given a new dataset of patients with a known BMI, we can use this model to estimate their diabetes risk.\n",
    "\n",
    "Given an $x_\\text{new}$, we can output prediction $y_\\text{new}$ as\n",
    "$$ y_\\text{new} = f(x_\\text{new}) = \\theta_1^* \\cdot x_\\text{new} + \\theta_0. $$"
   ]
  },
  {
   "cell_type": "markdown",
   "metadata": {
    "slideshow": {
     "slide_type": "subslide"
    }
   },
   "source": [
    "Let's start by loading more data. We will load three new patients (shown in red below) that we haven't seen before."
   ]
  },
  {
   "cell_type": "code",
   "execution_count": null,
   "metadata": {
    "slideshow": {
     "slide_type": "fragment"
    }
   },
   "outputs": [
    {
     "data": {
      "image/png": "[encoded data removed]",
      "text/plain": [
       "<Figure size 1000x375 with 1 Axes>"
      ]
     },
     "metadata": {},
     "output_type": "display_data"
    }
   ],
   "source": [
    "# Collect 3 data points\n",
    "test_indices = [0,4,7]\n",
    "diabetes_X_test = diabetes_X.iloc[test_indices]\n",
    "diabetes_y_test = diabetes_y.iloc[test_indices]\n",
    "\n",
    "plt.scatter(diabetes_X_train, diabetes_y_train)\n",
    "plt.scatter(diabetes_X_test, diabetes_y_test,  color='red')\n",
    "plt.xlabel('Body Mass Index (BMI)'); plt.ylabel('Diabetes Risk'); plt.legend(['Initial patients (training data)', 'New patients (test data)']);"
   ]
  },
  {
   "cell_type": "markdown",
   "metadata": {
    "slideshow": {
     "slide_type": "subslide"
    }
   },
   "source": [
    "Our linear model provides an estimate of the diabetes risk for these patients."
   ]
  },
  {
   "cell_type": "code",
   "execution_count": null,
   "metadata": {
    "slideshow": {
     "slide_type": "fragment"
    }
   },
   "outputs": [
    {
     "data": {
      "image/png": "[encoded data removed]",
      "text/plain": [
       "<Figure size 1000x375 with 1 Axes>"
      ]
     },
     "metadata": {},
     "output_type": "display_data"
    }
   ],
   "source": [
    "# generate predictions on the new patients\n",
    "diabetes_y_test_pred_bmi_only = regr.predict(diabetes_X_test)\n",
    "\n",
    "# visualize the results\n",
    "plt.xlabel('Body Mass Index (BMI)')\n",
    "plt.ylabel('Diabetes Risk')\n",
    "plt.scatter(diabetes_X_train, diabetes_y_train)\n",
    "plt.scatter(diabetes_X_test, diabetes_y_test, color='red', marker='o')\n",
    "plt.plot(diabetes_X_train, diabetes_y_train_pred_bmi_only, color='black', linewidth=1)\n",
    "plt.plot(diabetes_X_test, diabetes_y_test_pred_bmi_only, 'x', color='red', mew=3, markersize=8)\n",
    "plt.legend(['Initial patients (training data)', 'New patients (test data)',\n",
    "            \"Trained linear model\", \"Model predictions on test data\"]);"
   ]
  },
  {
   "cell_type": "markdown",
   "metadata": {
    "slideshow": {
     "slide_type": "slide"
    }
   },
   "source": [
    "# Applications of Supervised Learning\n",
    "\n",
    "Many of the most important applications of machine learning are supervised:\n",
    "* Classifying medical images.\n",
    "* Translating between pairs of languages.\n",
    "* Detecting objects in a self-driving car."
   ]
  },
  {
   "cell_type": "markdown",
   "metadata": {
    "slideshow": {
     "slide_type": "slide"
    }
   },
   "source": [
    "<left><img width=25% src=\"img/cornell_tech2.svg\"></left>\n",
    "# Part 2: Anatomy of a Supervised Learning Problem: The Dataset\n",
    "\n",
    "We have seen an example of supervised machine learning for making predictions\n",
    "from a scalar value (the BMI).\n",
    "\n",
    "Let's now examine more closely the components of a supervised learning problem, starting with the dataset."
   ]
  },
  {
   "cell_type": "markdown",
   "metadata": {
    "slideshow": {
     "slide_type": "slide"
    }
   },
   "source": [
    "# Recall: Three Components of a Supervised Machine Learning Problem\n",
    "\n",
    "To apply supervised learning, we define a dataset and a learning algorithm.\n",
    "\n",
    "$$ \\text{Dataset} + \\text{Learning Algorithm} \\to \\text{Predictive Model} $$\n",
    "\n",
    "The output is a predictive model that maps inputs to targets. For instance, it can predict targets on new inputs."
   ]
  },
  {
   "cell_type": "markdown",
   "metadata": {
    "slideshow": {
     "slide_type": "slide"
    }
   },
   "source": [
    "# A Supervised Learning Dataset\n",
    "\n",
    "Let's dive deeper into what's a supervised learning dataset. \n",
    "\n",
    "We will again use the UCI Diabetes Dataset as our example."
   ]
  },
  {
   "cell_type": "markdown",
   "metadata": {
    "slideshow": {
     "slide_type": "subslide"
    }
   },
   "source": [
    "The UCI dataset contains many additional data columns besides `bmi`, including age, sex, and blood pressure. We can ask `sklearn` to give us more information about this dataset."
   ]
  },
  {
   "cell_type": "code",
   "execution_count": null,
   "metadata": {},
   "outputs": [
    {
     "name": "stdout",
     "output_type": "stream",
     "text": [
      ".. _diabetes_dataset:\n",
      "\n",
      "Diabetes dataset\n",
      "----------------\n",
      "\n",
      "Ten baseline variables, age, sex, body mass index, average blood\n",
      "pressure, and six blood serum measurements were obtained for each of n =\n",
      "442 diabetes patients, as well as the response of interest, a\n",
      "quantitative measure of disease progression one year after baseline.\n",
      "\n",
      "**Data Set Characteristics:**\n",
      "\n",
      "  :Number of Instances: 442\n",
      "\n",
      "  :Number of Attributes: First 10 columns are numeric predictive values\n",
      "\n",
      "  :Target: Column 11 is a quantitative measure of disease progression one year after baseline\n",
      "\n",
      "  :Attribute Information:\n",
      "      - age     age in years\n",
      "      - sex\n",
      "      - bmi     body mass index\n",
      "      - bp      average blood pressure\n",
      "      - s1      tc, total serum cholesterol\n",
      "      - s2      ldl, low-density lipoproteins\n",
      "      - s3      hdl, high-density lipoproteins\n",
      "      - s4      tch, total cholesterol / HDL\n",
      "      - s5      ltg, possibly log of serum triglycerides level\n",
      "      - s6      glu, blood sugar level\n",
      "\n",
      "Note: Each of these 10 feature variables have been mean centered and scaled by the standard deviation times the square root of `n_samples` (i.e. the sum of squares of each column totals 1).\n",
      "\n",
      "Source URL:\n",
      "https://www4.stat.ncsu.edu/~boos/var.select/diabetes.html\n",
      "\n",
      "For more information see:\n",
      "Bradley Efron, Trevor Hastie, Iain Johnstone and Robert Tibshirani (2004) \"Least Angle Regression,\" Annals of Statistics (with discussion), 407-499.\n",
      "(https://web.stanford.edu/~hastie/Papers/LARS/LeastAngle_2002.pdf)\n",
      "\n"
     ]
    }
   ],
   "source": [
    "# Load the diabetes dataset\n",
    "from sklearn import datasets\n",
    "diabetes = datasets.load_diabetes(as_frame=True)\n",
    "print(diabetes.DESCR)"
   ]
  },
  {
   "cell_type": "markdown",
   "metadata": {
    "slideshow": {
     "slide_type": "slide"
    }
   },
   "source": [
    "# A Supervised Learning Dataset: Notation\n",
    "\n",
    "We say that a training dataset of size $n$ (e.g., $n$ patients) is a set\n",
    "$$\\mathcal{D} = \\{(x^{(i)}, y^{(i)}) \\mid i = 1,2,...,n\\}$$\n",
    "\n",
    "Each $x^{(i)}$ denotes an input (e.g., the measurements for patient $i$), and each $y^{(i)} \\in \\mathcal{Y}$ is a target (e.g., the diabetes risk). \n",
    "\n",
    "Together, $(x^{(i)}, y^{(i)})$ form a *training example*."
   ]
  },
  {
   "cell_type": "markdown",
   "metadata": {
    "slideshow": {
     "slide_type": "subslide"
    }
   },
   "source": [
    "We can look at the diabetes dataset in this form."
   ]
  },
  {
   "cell_type": "code",
   "execution_count": null,
   "metadata": {
    "slideshow": {
     "slide_type": "fragment"
    }
   },
   "outputs": [
    {
     "data": {
      "text/html": [
       "<div>\n",
       "<style scoped>\n",
       "    .dataframe tbody tr th:only-of-type {\n",
       "        vertical-align: middle;\n",
       "    }\n",
       "\n",
       "    .dataframe tbody tr th {\n",
       "        vertical-align: top;\n",
       "    }\n",
       "\n",
       "    .dataframe thead th {\n",
       "        text-align: right;\n",
       "    }\n",
       "</style>\n",
       "<table border=\"1\" class=\"dataframe\">\n",
       "  <thead>\n",
       "    <tr style=\"text-align: right;\">\n",
       "      <th></th>\n",
       "      <th>age</th>\n",
       "      <th>sex</th>\n",
       "      <th>bmi</th>\n",
       "      <th>bp</th>\n",
       "      <th>s1</th>\n",
       "      <th>s2</th>\n",
       "      <th>s3</th>\n",
       "      <th>s4</th>\n",
       "      <th>s5</th>\n",
       "      <th>s6</th>\n",
       "    </tr>\n",
       "  </thead>\n",
       "  <tbody>\n",
       "    <tr>\n",
       "      <th>0</th>\n",
       "      <td>0.04</td>\n",
       "      <td>0.05</td>\n",
       "      <td>0.06</td>\n",
       "      <td>0.02</td>\n",
       "      <td>-0.04</td>\n",
       "      <td>-0.03</td>\n",
       "      <td>-0.04</td>\n",
       "      <td>-0.00</td>\n",
       "      <td>0.02</td>\n",
       "      <td>-0.02</td>\n",
       "    </tr>\n",
       "    <tr>\n",
       "      <th>1</th>\n",
       "      <td>-0.00</td>\n",
       "      <td>-0.04</td>\n",
       "      <td>-0.05</td>\n",
       "      <td>-0.03</td>\n",
       "      <td>-0.01</td>\n",
       "      <td>-0.02</td>\n",
       "      <td>0.07</td>\n",
       "      <td>-0.04</td>\n",
       "      <td>-0.07</td>\n",
       "      <td>-0.09</td>\n",
       "    </tr>\n",
       "    <tr>\n",
       "      <th>2</th>\n",
       "      <td>0.09</td>\n",
       "      <td>0.05</td>\n",
       "      <td>0.04</td>\n",
       "      <td>-0.01</td>\n",
       "      <td>-0.05</td>\n",
       "      <td>-0.03</td>\n",
       "      <td>-0.03</td>\n",
       "      <td>-0.00</td>\n",
       "      <td>0.00</td>\n",
       "      <td>-0.03</td>\n",
       "    </tr>\n",
       "    <tr>\n",
       "      <th>3</th>\n",
       "      <td>-0.09</td>\n",
       "      <td>-0.04</td>\n",
       "      <td>-0.01</td>\n",
       "      <td>-0.04</td>\n",
       "      <td>0.01</td>\n",
       "      <td>0.02</td>\n",
       "      <td>-0.04</td>\n",
       "      <td>0.03</td>\n",
       "      <td>0.02</td>\n",
       "      <td>-0.01</td>\n",
       "    </tr>\n",
       "    <tr>\n",
       "      <th>4</th>\n",
       "      <td>0.01</td>\n",
       "      <td>-0.04</td>\n",
       "      <td>-0.04</td>\n",
       "      <td>0.02</td>\n",
       "      <td>0.00</td>\n",
       "      <td>0.02</td>\n",
       "      <td>0.01</td>\n",
       "      <td>-0.00</td>\n",
       "      <td>-0.03</td>\n",
       "      <td>-0.05</td>\n",
       "    </tr>\n",
       "  </tbody>\n",
       "</table>\n",
       "</div>"
      ],
      "text/plain": [
       "    age   sex   bmi    bp    s1    s2    s3    s4    s5    s6\n",
       "0  0.04  0.05  0.06  0.02 -0.04 -0.03 -0.04 -0.00  0.02 -0.02\n",
       "1 -0.00 -0.04 -0.05 -0.03 -0.01 -0.02  0.07 -0.04 -0.07 -0.09\n",
       "2  0.09  0.05  0.04 -0.01 -0.05 -0.03 -0.03 -0.00  0.00 -0.03\n",
       "3 -0.09 -0.04 -0.01 -0.04  0.01  0.02 -0.04  0.03  0.02 -0.01\n",
       "4  0.01 -0.04 -0.04  0.02  0.00  0.02  0.01 -0.00 -0.03 -0.05"
      ]
     },
     "execution_count": 9,
     "metadata": {},
     "output_type": "execute_result"
    }
   ],
   "source": [
    "# Load the diabetes dataset\n",
    "diabetes_X, diabetes_y = diabetes.data, diabetes.target\n",
    "\n",
    "# Print part of the dataset\n",
    "diabetes_X.head()"
   ]
  },
  {
   "cell_type": "markdown",
   "metadata": {
    "slideshow": {
     "slide_type": "slide"
    }
   },
   "source": [
    "# Training Dataset: Inputs\n",
    "\n",
    "More precisely, an input $x^{(i)} \\in \\mathcal{X}$ is a $d$-dimensional vector of the form\n",
    "$$ x^{(i)} = \\begin{bmatrix}\n",
    "x^{(i)}_1 \\\\\n",
    "x^{(i)}_2 \\\\\n",
    "\\vdots \\\\\n",
    "x^{(i)}_d\n",
    "\\end{bmatrix}$$\n",
    "For example, it could be the values of the $d$ features for patient $i$.\n",
    "\n",
    "The set $\\mathcal{X}$ is called the feature space. Often, we have, $\\mathcal{X} = \\mathbb{R}^d$."
   ]
  },
  {
   "cell_type": "markdown",
   "metadata": {
    "slideshow": {
     "slide_type": "subslide"
    }
   },
   "source": [
    "Let's look at data for one patient."
   ]
  },
  {
   "cell_type": "code",
   "execution_count": null,
   "metadata": {
    "slideshow": {
     "slide_type": "fragment"
    }
   },
   "outputs": [
    {
     "data": {
      "text/plain": [
       "age    0.04\n",
       "sex    0.05\n",
       "bmi    0.06\n",
       "bp     0.02\n",
       "s1    -0.04\n",
       "s2    -0.03\n",
       "s3    -0.04\n",
       "s4    -0.00\n",
       "s5     0.02\n",
       "s6    -0.02\n",
       "Name: 0, dtype: float64"
      ]
     },
     "execution_count": 10,
     "metadata": {},
     "output_type": "execute_result"
    }
   ],
   "source": [
    "diabetes_X.iloc[0]"
   ]
  },
  {
   "cell_type": "markdown",
   "metadata": {
    "slideshow": {
     "slide_type": "slide"
    }
   },
   "source": [
    "# Training Dataset: Attributes\n",
    "\n",
    "We refer to the numerical variables describing the patient as *attributes*. Examples of attributes include:\n",
    "* The age of a patient.\n",
    "* The patient's gender.\n",
    "* The patient's BMI.\n",
    "\n",
    "Note that these attributes in the above example have been mean-centered at zero and re-scaled to have a variance of one."
   ]
  },
  {
   "cell_type": "markdown",
   "metadata": {
    "slideshow": {
     "slide_type": "slide"
    }
   },
   "source": [
    "# Training Dataset: Features\n",
    "\n",
    "Often, an input object has many attributes, and we want to use these attributes to define more complex descriptions of the input.\n",
    "\n",
    "* Is the patient old and a man? (Useful if old men are at risk).\n",
    "* Is the BMI above the obesity threshold?\n",
    "\n",
    "We call these custom attributes *features*."
   ]
  },
  {
   "cell_type": "markdown",
   "metadata": {
    "slideshow": {
     "slide_type": "subslide"
    }
   },
   "source": [
    "Let's create an \"old man\" feature."
   ]
  },
  {
   "cell_type": "code",
   "execution_count": null,
   "metadata": {
    "slideshow": {
     "slide_type": "fragment"
    }
   },
   "outputs": [
    {
     "data": {
      "text/html": [
       "<div>\n",
       "<style scoped>\n",
       "    .dataframe tbody tr th:only-of-type {\n",
       "        vertical-align: middle;\n",
       "    }\n",
       "\n",
       "    .dataframe tbody tr th {\n",
       "        vertical-align: top;\n",
       "    }\n",
       "\n",
       "    .dataframe thead th {\n",
       "        text-align: right;\n",
       "    }\n",
       "</style>\n",
       "<table border=\"1\" class=\"dataframe\">\n",
       "  <thead>\n",
       "    <tr style=\"text-align: right;\">\n",
       "      <th></th>\n",
       "      <th>age</th>\n",
       "      <th>sex</th>\n",
       "      <th>bmi</th>\n",
       "      <th>bp</th>\n",
       "      <th>s1</th>\n",
       "      <th>s2</th>\n",
       "      <th>s3</th>\n",
       "      <th>s4</th>\n",
       "      <th>s5</th>\n",
       "      <th>s6</th>\n",
       "      <th>old_man</th>\n",
       "    </tr>\n",
       "  </thead>\n",
       "  <tbody>\n",
       "    <tr>\n",
       "      <th>0</th>\n",
       "      <td>0.04</td>\n",
       "      <td>0.05</td>\n",
       "      <td>0.06</td>\n",
       "      <td>0.02</td>\n",
       "      <td>-0.04</td>\n",
       "      <td>-0.03</td>\n",
       "      <td>-0.04</td>\n",
       "      <td>-0.00</td>\n",
       "      <td>0.02</td>\n",
       "      <td>-0.02</td>\n",
       "      <td>False</td>\n",
       "    </tr>\n",
       "    <tr>\n",
       "      <th>1</th>\n",
       "      <td>-0.00</td>\n",
       "      <td>-0.04</td>\n",
       "      <td>-0.05</td>\n",
       "      <td>-0.03</td>\n",
       "      <td>-0.01</td>\n",
       "      <td>-0.02</td>\n",
       "      <td>0.07</td>\n",
       "      <td>-0.04</td>\n",
       "      <td>-0.07</td>\n",
       "      <td>-0.09</td>\n",
       "      <td>False</td>\n",
       "    </tr>\n",
       "    <tr>\n",
       "      <th>2</th>\n",
       "      <td>0.09</td>\n",
       "      <td>0.05</td>\n",
       "      <td>0.04</td>\n",
       "      <td>-0.01</td>\n",
       "      <td>-0.05</td>\n",
       "      <td>-0.03</td>\n",
       "      <td>-0.03</td>\n",
       "      <td>-0.00</td>\n",
       "      <td>0.00</td>\n",
       "      <td>-0.03</td>\n",
       "      <td>True</td>\n",
       "    </tr>\n",
       "    <tr>\n",
       "      <th>3</th>\n",
       "      <td>-0.09</td>\n",
       "      <td>-0.04</td>\n",
       "      <td>-0.01</td>\n",
       "      <td>-0.04</td>\n",
       "      <td>0.01</td>\n",
       "      <td>0.02</td>\n",
       "      <td>-0.04</td>\n",
       "      <td>0.03</td>\n",
       "      <td>0.02</td>\n",
       "      <td>-0.01</td>\n",
       "      <td>False</td>\n",
       "    </tr>\n",
       "    <tr>\n",
       "      <th>4</th>\n",
       "      <td>0.01</td>\n",
       "      <td>-0.04</td>\n",
       "      <td>-0.04</td>\n",
       "      <td>0.02</td>\n",
       "      <td>0.00</td>\n",
       "      <td>0.02</td>\n",
       "      <td>0.01</td>\n",
       "      <td>-0.00</td>\n",
       "      <td>-0.03</td>\n",
       "      <td>-0.05</td>\n",
       "      <td>False</td>\n",
       "    </tr>\n",
       "  </tbody>\n",
       "</table>\n",
       "</div>"
      ],
      "text/plain": [
       "    age   sex   bmi    bp    s1    s2    s3    s4    s5    s6  old_man\n",
       "0  0.04  0.05  0.06  0.02 -0.04 -0.03 -0.04 -0.00  0.02 -0.02    False\n",
       "1 -0.00 -0.04 -0.05 -0.03 -0.01 -0.02  0.07 -0.04 -0.07 -0.09    False\n",
       "2  0.09  0.05  0.04 -0.01 -0.05 -0.03 -0.03 -0.00  0.00 -0.03     True\n",
       "3 -0.09 -0.04 -0.01 -0.04  0.01  0.02 -0.04  0.03  0.02 -0.01    False\n",
       "4  0.01 -0.04 -0.04  0.02  0.00  0.02  0.01 -0.00 -0.03 -0.05    False"
      ]
     },
     "execution_count": 11,
     "metadata": {},
     "output_type": "execute_result"
    }
   ],
   "source": [
    "diabetes_X['old_man'] = (diabetes_X['sex'] > 0) & (diabetes_X['age'] > 0.05)\n",
    "diabetes_X.head()"
   ]
  },
  {
   "cell_type": "markdown",
   "metadata": {
    "slideshow": {
     "slide_type": "slide"
    }
   },
   "source": [
    "# Training Dataset: Features\n",
    "\n",
    "We may denote features via a function $\\phi : \\mathcal{X} \\to \\mathbb{R}^p$ that takes an input $x^{(i)} \\in \\mathcal{X}$ and outputs a $p$-dimensional vector\n",
    "$$ \\phi(x^{(i)}) = \\left[\\begin{array}{@{}c@{}}\n",
    "\\phi(x^{(i)})_1 \\\\\n",
    "\\phi(x^{(i)})_2 \\\\\n",
    "\\vdots \\\\\n",
    "\\phi(x^{(i)})_p\n",
    "\\end{array} \\right]$$\n",
    "We say that $\\phi(x^{(i)})$ is a *featurized* input, and each $\\phi(x^{(i)})_j$ is a *feature*."
   ]
  },
  {
   "cell_type": "markdown",
   "metadata": {
    "slideshow": {
     "slide_type": "slide"
    }
   },
   "source": [
    "# Features vs Attributes\n",
    "\n",
    "In practice, the terms attribute and features are often used interchangeably. Most authors refer to $x^{(i)}$ as a vector of features. \n",
    "\n",
    "We will follow this convention and use the term \"attribute\" only when there is ambiguity between features and attributes."
   ]
  },
  {
   "cell_type": "markdown",
   "metadata": {
    "slideshow": {
     "slide_type": "skip"
    }
   },
   "source": [
    "# Features: Discrete vs. Continuous \n",
    "\n",
    "Features can be either discrete or continuous. We will see that some ML algorithms handle these differently."
   ]
  },
  {
   "cell_type": "markdown",
   "metadata": {
    "slideshow": {
     "slide_type": "skip"
    }
   },
   "source": [
    "The BMI feature that we have seen earlier is an example of a continuous feature.\n",
    "\n",
    "We can visualize its distribution."
   ]
  },
  {
   "cell_type": "code",
   "execution_count": null,
   "metadata": {
    "slideshow": {
     "slide_type": "skip"
    }
   },
   "outputs": [
    {
     "data": {
      "image/png": "[encoded data removed]",
      "text/plain": [
       "<Figure size 1000x375 with 1 Axes>"
      ]
     },
     "metadata": {},
     "output_type": "display_data"
    }
   ],
   "source": [
    "diabetes_X.loc[:, 'bmi'].hist()\n",
    "plt.xlabel('BMI'); plt.ylabel('count');"
   ]
  },
  {
   "cell_type": "markdown",
   "metadata": {
    "slideshow": {
     "slide_type": "skip"
    }
   },
   "source": [
    "Other features take on one of a finite number of discrete values. The `sex` column is an example of a categorical feature.\n",
    "\n",
    "In this example, the dataset has been pre-processed such that the two values happen to be `0.05068012` and `-0.04464164`."
   ]
  },
  {
   "cell_type": "code",
   "execution_count": null,
   "metadata": {
    "slideshow": {
     "slide_type": "skip"
    }
   },
   "outputs": [
    {
     "name": "stdout",
     "output_type": "stream",
     "text": [
      "[ 0.05068012 -0.04464164]\n"
     ]
    },
    {
     "data": {
      "image/png": "[encoded data removed]",
      "text/plain": [
       "<Figure size 1000x375 with 1 Axes>"
      ]
     },
     "metadata": {},
     "output_type": "display_data"
    }
   ],
   "source": [
    "print(diabetes_X.loc[:, 'sex'].unique())\n",
    "diabetes_X.loc[:, 'sex'].hist()\n",
    "plt.xlabel('sex'); plt.ylabel('count');"
   ]
  },
  {
   "cell_type": "markdown",
   "metadata": {
    "slideshow": {
     "slide_type": "slide"
    }
   },
   "source": [
    "# Training Dataset: Targets\n",
    "\n",
    "For each patient, we are interested in predicting a quantity of interest, the *target*. In our example, this is the patient's diabetes risk.\n",
    "\n",
    "Formally, when $(x^{(i)}, y^{(i)})$ form a *training example*, each $y^{(i)} \\in \\mathcal{Y}$ is a target. We call $\\mathcal{Y}$ the target space."
   ]
  },
  {
   "cell_type": "markdown",
   "metadata": {
    "slideshow": {
     "slide_type": "subslide"
    }
   },
   "source": [
    "We plot the distribution of risk scores below."
   ]
  },
  {
   "cell_type": "code",
   "execution_count": null,
   "metadata": {
    "slideshow": {
     "slide_type": "fragment"
    }
   },
   "outputs": [
    {
     "data": {
      "image/png": "[encoded data removed]",
      "text/plain": [
       "<Figure size 1000x375 with 1 Axes>"
      ]
     },
     "metadata": {},
     "output_type": "display_data"
    }
   ],
   "source": [
    "plt.xlabel('Diabetes risk score')\n",
    "plt.ylabel('Number of patients')\n",
    "diabetes_y.hist();"
   ]
  },
  {
   "cell_type": "markdown",
   "metadata": {
    "slideshow": {
     "slide_type": "slide"
    }
   },
   "source": [
    "# Targets: Regression vs. Classification\n",
    "\n",
    "We distinguish between two broad types of supervised learning problems that differ in the form of the target variable.\n",
    "\n",
    "1. __Regression__: The target variable $y$ is continuous. We are fitting a curve in a high-dimensional feature space that approximates the shape of the dataset.\n",
    "2. __Classification__: The target variable $y$ is discrete. Each discrete value corresponds to a *class* and we are looking for a hyperplane that separates the different classes."
   ]
  },
  {
   "cell_type": "markdown",
   "metadata": {
    "slideshow": {
     "slide_type": "slide"
    }
   },
   "source": [
    "<left><img width=25% src=\"img/cornell_tech2.svg\"></left>\n",
    "# Part 3: Anatomy of a Supervised Learning Problem: The Learning Algorithm\n",
    "\n",
    "Let's now look at what a general supervised learning algorithm looks like."
   ]
  },
  {
   "cell_type": "markdown",
   "metadata": {
    "slideshow": {
     "slide_type": "skip"
    }
   },
   "source": [
    "# Recall: Three Components of a Supervised Machine Learning Problem\n",
    "\n",
    "To apply supervised learning, we define a dataset and a learning algorithm.\n",
    "\n",
    "$$ \\text{Dataset} + \\text{Learning Algorithm} \\to \\text{Predictive Model} $$\n",
    "\n",
    "The output is a predictive model that maps inputs to targets. For instance, it can predict targets on new inputs."
   ]
  },
  {
   "cell_type": "markdown",
   "metadata": {
    "slideshow": {
     "slide_type": "slide"
    }
   },
   "source": [
    "# The Components of a Supervised Machine Learning Algorithm\n",
    "\n",
    "We can also define the high-level structure of a supervised learning algorithm as consisting of three components:\n",
    "* A __model class__: the set of possible models we consider.\n",
    "* An __objective__ function, which defines how good a model is.\n",
    "* An __optimizer__, which finds the best predictive model in the model class according to the objective function."
   ]
  },
  {
   "cell_type": "markdown",
   "metadata": {
    "slideshow": {
     "slide_type": "subslide"
    }
   },
   "source": [
    "Let's look again at our diabetes dataset for an example."
   ]
  },
  {
   "cell_type": "code",
   "execution_count": null,
   "metadata": {
    "slideshow": {
     "slide_type": "fragment"
    }
   },
   "outputs": [
    {
     "data": {
      "text/html": [
       "<div>\n",
       "<style scoped>\n",
       "    .dataframe tbody tr th:only-of-type {\n",
       "        vertical-align: middle;\n",
       "    }\n",
       "\n",
       "    .dataframe tbody tr th {\n",
       "        vertical-align: top;\n",
       "    }\n",
       "\n",
       "    .dataframe thead th {\n",
       "        text-align: right;\n",
       "    }\n",
       "</style>\n",
       "<table border=\"1\" class=\"dataframe\">\n",
       "  <thead>\n",
       "    <tr style=\"text-align: right;\">\n",
       "      <th></th>\n",
       "      <th>age</th>\n",
       "      <th>sex</th>\n",
       "      <th>bmi</th>\n",
       "      <th>bp</th>\n",
       "      <th>s1</th>\n",
       "      <th>s2</th>\n",
       "      <th>s3</th>\n",
       "      <th>s4</th>\n",
       "      <th>s5</th>\n",
       "      <th>s6</th>\n",
       "    </tr>\n",
       "  </thead>\n",
       "  <tbody>\n",
       "    <tr>\n",
       "      <th>0</th>\n",
       "      <td>0.04</td>\n",
       "      <td>0.05</td>\n",
       "      <td>0.06</td>\n",
       "      <td>0.02</td>\n",
       "      <td>-0.04</td>\n",
       "      <td>-0.03</td>\n",
       "      <td>-0.04</td>\n",
       "      <td>-0.00</td>\n",
       "      <td>0.02</td>\n",
       "      <td>-0.02</td>\n",
       "    </tr>\n",
       "    <tr>\n",
       "      <th>1</th>\n",
       "      <td>-0.00</td>\n",
       "      <td>-0.04</td>\n",
       "      <td>-0.05</td>\n",
       "      <td>-0.03</td>\n",
       "      <td>-0.01</td>\n",
       "      <td>-0.02</td>\n",
       "      <td>0.07</td>\n",
       "      <td>-0.04</td>\n",
       "      <td>-0.07</td>\n",
       "      <td>-0.09</td>\n",
       "    </tr>\n",
       "    <tr>\n",
       "      <th>2</th>\n",
       "      <td>0.09</td>\n",
       "      <td>0.05</td>\n",
       "      <td>0.04</td>\n",
       "      <td>-0.01</td>\n",
       "      <td>-0.05</td>\n",
       "      <td>-0.03</td>\n",
       "      <td>-0.03</td>\n",
       "      <td>-0.00</td>\n",
       "      <td>0.00</td>\n",
       "      <td>-0.03</td>\n",
       "    </tr>\n",
       "    <tr>\n",
       "      <th>3</th>\n",
       "      <td>-0.09</td>\n",
       "      <td>-0.04</td>\n",
       "      <td>-0.01</td>\n",
       "      <td>-0.04</td>\n",
       "      <td>0.01</td>\n",
       "      <td>0.02</td>\n",
       "      <td>-0.04</td>\n",
       "      <td>0.03</td>\n",
       "      <td>0.02</td>\n",
       "      <td>-0.01</td>\n",
       "    </tr>\n",
       "    <tr>\n",
       "      <th>4</th>\n",
       "      <td>0.01</td>\n",
       "      <td>-0.04</td>\n",
       "      <td>-0.04</td>\n",
       "      <td>0.02</td>\n",
       "      <td>0.00</td>\n",
       "      <td>0.02</td>\n",
       "      <td>0.01</td>\n",
       "      <td>-0.00</td>\n",
       "      <td>-0.03</td>\n",
       "      <td>-0.05</td>\n",
       "    </tr>\n",
       "  </tbody>\n",
       "</table>\n",
       "</div>"
      ],
      "text/plain": [
       "    age   sex   bmi    bp    s1    s2    s3    s4    s5    s6\n",
       "0  0.04  0.05  0.06  0.02 -0.04 -0.03 -0.04 -0.00  0.02 -0.02\n",
       "1 -0.00 -0.04 -0.05 -0.03 -0.01 -0.02  0.07 -0.04 -0.07 -0.09\n",
       "2  0.09  0.05  0.04 -0.01 -0.05 -0.03 -0.03 -0.00  0.00 -0.03\n",
       "3 -0.09 -0.04 -0.01 -0.04  0.01  0.02 -0.04  0.03  0.02 -0.01\n",
       "4  0.01 -0.04 -0.04  0.02  0.00  0.02  0.01 -0.00 -0.03 -0.05"
      ]
     },
     "execution_count": 15,
     "metadata": {},
     "output_type": "execute_result"
    }
   ],
   "source": [
    "# Load the diabetes dataset\n",
    "diabetes = datasets.load_diabetes(as_frame=True)\n",
    "diabetes_X, diabetes_y = diabetes.data, diabetes.target\n",
    "\n",
    "# Print part of the dataset\n",
    "diabetes_X.head()"
   ]
  },
  {
   "cell_type": "markdown",
   "metadata": {
    "slideshow": {
     "slide_type": "skip"
    }
   },
   "source": [
    "# Model: Notation\n",
    "\n",
    "For a data point $x_i$, we often assume the targets are generated by a\n",
    "ground-truth function and potentially corrupted.\n",
    "That is, $y_i=f^\\star(x_i)+{\\rm noise}$.\n",
    "We only observe the data and do not know the true function, and\n",
    "hence seek to approximately model $f^\\star$ by searching a family of models.\n",
    "\n",
    "We'll say that a model is a function\n",
    "$$ f : \\mathcal{X} \\to \\mathcal{Y} $$\n",
    "that maps inputs $x \\in \\mathcal{X}$ to targets $y \\in \\mathcal{Y}$.\n"
   ]
  },
  {
   "cell_type": "markdown",
   "metadata": {
    "slideshow": {
     "slide_type": "skip"
    }
   },
   "source": [
    "Often, models have *parameters* $\\theta \\in \\Theta$ living in a set $\\Theta$. We will then write the model as\n",
    "$$ f_\\theta : \\mathcal{X} \\to \\mathcal{Y} $$\n",
    "to denote that it's parametrized by $\\theta$."
   ]
  },
  {
   "cell_type": "markdown",
   "metadata": {
    "slideshow": {
     "slide_type": "slide"
    }
   },
   "source": [
    "# Model Class: Notation\n",
    "\n",
    "Formally, the model <span style='color: grey'>(or <em>hypothesis</em>)</span> class is a set \n",
    "$$\\mathcal{M} \\subseteq \\{f \\mid f : \\mathcal{X} \\to \\mathcal{Y} \\}$$\n",
    "of possible models that map input features to targets."
   ]
  },
  {
   "cell_type": "markdown",
   "metadata": {
    "slideshow": {
     "slide_type": "fragment"
    }
   },
   "source": [
    "When the models $f_\\theta$ are parametrized by *parameters* $\\theta \\in \\Theta$ living in some set $\\Theta$. Thus we can also write\n",
    "$$\\mathcal{M} = \\{f_\\theta \\mid \\theta \\in \\Theta \\}.$$"
   ]
  },
  {
   "cell_type": "markdown",
   "metadata": {
    "slideshow": {
     "slide_type": "slide"
    }
   },
   "source": [
    "# Model Class: Example with vector-valued features\n",
    "\n",
    "One simple approach is to assume that $x$ and $y$ are related by a linear model of the form\n",
    "\\begin{align*}\n",
    "f(x) & = \\theta_0 + \\theta_1 \\cdot x_1 + \\theta_2 \\cdot x_2 + ... + \\theta_d \\cdot x_d\n",
    "\\end{align*}\n",
    "where $x$ is a featurized input and $y$ is the target.\n",
    "\n",
    "The $\\theta_j$ are the *parameters* of the model, $\\Theta = \\mathbb{R}^{d+1}$, and $\\mathcal{M} = \\{ \\theta_0 + \\theta_1 \\cdot x_1 + \\theta_2 \\cdot x_2 + ... + \\theta_d \\cdot x_d \\mid \\theta \\in \\mathbb{R}^{d+1} \\}$\n",
    "<!-- By using the notation $x_0 = 1$, we can represent the model in a vectorized form\n",
    "$$ y = \\sum_{j=0}^d \\beta_j \\cdot x_j = \\vec \\beta \\cdot \\vec x. $$\n",
    "where $\\vec x$ is a vector of features. -->"
   ]
  },
  {
   "cell_type": "markdown",
   "metadata": {
    "slideshow": {
     "slide_type": "slide"
    }
   },
   "source": [
    "# Objectives: Notation\n",
    "\n",
    "<!-- Given a training set, how do we pick the parameters $\\theta$ for the model? A natural approach is to select $\\theta$ such that $f_\\theta(x^{(i)})$ is close to $y^{(i)}$ on a training dataset $\\mathcal{D} = \\{(x^{(i)}, y^{(i)}) \\mid i = 1,2,...,n\\}$. -->\n",
    "\n",
    "To capture this intuition, we define an *objective function* (also called a *loss function*)\n",
    "$$J(f) : \\mathcal{M} \\to [0, \\infty), $$\n",
    "which describes the extent to which $f$ \"fits\" the data $\\mathcal{D} = \\{(x^{(i)}, y^{(i)}) \\mid i = 1,2,...,n\\}$."
   ]
  },
  {
   "cell_type": "markdown",
   "metadata": {
    "slideshow": {
     "slide_type": "fragment"
    }
   },
   "source": [
    "When $f$ is parametrized by $\\theta \\in \\Theta$, the objective becomes a function $J(\\theta) : \\Theta \\to [0, \\infty).$\n",
    "\n",
    " <span style=\"color:grey;\">Error-based objective functions for regression are typically lower-bounded by 0, but in general may take any real value (e.g., for classification)</span>"
   ]
  },
  {
   "cell_type": "markdown",
   "metadata": {
    "slideshow": {
     "slide_type": "slide"
    }
   },
   "source": [
    "# Objective: Examples\n",
    "\n",
    "What would are some possible objective functions? We will see many, but here are a few examples:\n",
    "* Mean squared error: $$J(\\theta) = \\frac{1}{2n} \\sum_{i=1}^n \\left( f_\\theta(x^{(i)}) - y^{(i)} \\right)^2$$\n",
    "* Absolute (L1) error: $$J(\\theta) = \\frac{1}{n} \\sum_{i=1}^n \\left| f_\\theta(x^{(i)}) - y^{(i)} \\right|$$\n",
    "\n",
    "These are defined for a dataset $\\mathcal{D} = \\{(x^{(i)}, y^{(i)}) \\mid i = 1,2,...,n\\}$."
   ]
  },
  {
   "cell_type": "code",
   "execution_count": null,
   "metadata": {
    "slideshow": {
     "slide_type": "subslide"
    }
   },
   "outputs": [
    {
     "name": "stdout",
     "output_type": "stream",
     "text": [
      "Mean squared error: 4.00\n",
      "Mean absolute error: 2.00\n"
     ]
    },
    {
     "data": {
      "image/png": "[encoded data removed]",
      "text/plain": [
       "<Figure size 1000x375 with 1 Axes>"
      ]
     },
     "metadata": {},
     "output_type": "display_data"
    }
   ],
   "source": [
    "from sklearn.metrics import mean_squared_error, mean_absolute_error\n",
    "\n",
    "y1 = np.array([-1, 0])\n",
    "y2 = np.array([1, 2])\n",
    "\n",
    "plt.scatter(*y1, color='k')\n",
    "plt.scatter(*y2, color='k')\n",
    "plt.plot([y1[0], y2[0]], [y1[1], y2[1]], color='k')\n",
    "plt.annotate('y1', (y1[0], y1[1]), textcoords=\"offset points\", xytext=(0,10), ha='center')\n",
    "plt.annotate('y2', (y2[0], y2[1]), textcoords=\"offset points\", xytext=(0,-15), ha='center')\n",
    "\n",
    "print('Mean squared error: %.2f' % mean_squared_error(y1, y2))\n",
    "print('Mean absolute error: %.2f' % mean_absolute_error(y1, y2))"
   ]
  },
  {
   "cell_type": "markdown",
   "metadata": {
    "slideshow": {
     "slide_type": "slide"
    }
   },
   "source": [
    "# Optimizer: Notation\n",
    "\n",
    "At a high-level an optimizer takes an objective $J$ and a model class $\\mathcal{M}$ and finds a model $f \\in \\mathcal{M}$ with the smallest value of the objective $J$.\n",
    "\n",
    "\\begin{align*}\n",
    "\\min_{f \\in \\mathcal{M}} J(f)\n",
    "\\end{align*}\n",
    "\n",
    "Intuitively, this is the function that bests \"fits\" the data on the training dataset."
   ]
  },
  {
   "cell_type": "markdown",
   "metadata": {
    "slideshow": {
     "slide_type": "fragment"
    }
   },
   "source": [
    "When $f$ is parametrized by $\\theta \\in \\Theta$, the optimizer minimizes a function $J(\\theta)$ over all $\\theta \\in \\Theta$."
   ]
  },
  {
   "cell_type": "markdown",
   "metadata": {
    "slideshow": {
     "slide_type": "slide"
    }
   },
   "source": [
    "# Optimizer: Example\n",
    "\n",
    "We will see that behind the scenes, the `sklearn.linear_models.LinearRegression` algorithm optimizes the MSE loss.\n",
    "When $\\mathcal{X}=\\mathbb{R}$, $\\Theta=\\mathbb{R}^2$ for the intercept and slop terms.\n",
    "\n",
    "\\begin{align*}\n",
    "\\min_{\\theta \\in \\mathbb{R}^2} \\frac{1}{2n} \\sum_{i=1}^n \\left( f_\\theta(x^{(i)}) - y^{(i)} \\right)^2\n",
    "\\end{align*}\n",
    "\n",
    "We can easily measure the quality of the fit on the training set and the test set."
   ]
  },
  {
   "cell_type": "markdown",
   "metadata": {
    "slideshow": {
     "slide_type": "subslide"
    }
   },
   "source": [
    "Let's use `sklearn` to fit a linear model with the MSE loss to our diabetes dataset, which now takes multi-dimensional features instead of just the scalar-valued BMI."
   ]
  },
  {
   "cell_type": "code",
   "execution_count": null,
   "metadata": {
    "slideshow": {
     "slide_type": "fragment"
    }
   },
   "outputs": [],
   "source": [
    "# Collect 20 data points for training\n",
    "diabetes_X_train = diabetes_X.iloc[-20:]\n",
    "diabetes_y_train = diabetes_y.iloc[-20:]\n",
    "\n",
    "# Create linear regression object\n",
    "regr = linear_model.LinearRegression()\n",
    "\n",
    "# Train the model using the training sets\n",
    "regr.fit(diabetes_X_train, diabetes_y_train.values)\n",
    "\n",
    "# Make predictions on the training set\n",
    "diabetes_y_train_pred = regr.predict(diabetes_X_train)\n",
    "\n",
    "# Collect 3 data points for testing\n",
    "diabetes_X_test = diabetes_X.iloc[test_indices]\n",
    "diabetes_y_test = diabetes_y.iloc[test_indices]\n",
    "\n",
    "# generate predictions on the new patients\n",
    "diabetes_y_test_pred = regr.predict(diabetes_X_test)"
   ]
  },
  {
   "cell_type": "markdown",
   "metadata": {
    "slideshow": {
     "slide_type": "slide"
    }
   },
   "source": [
    "Let's visualize the predictions on the same data, and compare to the model only trained on the BMI features."
   ]
  },
  {
   "cell_type": "code",
   "execution_count": null,
   "metadata": {
    "slideshow": {
     "slide_type": "fragment"
    }
   },
   "outputs": [
    {
     "data": {
      "image/png": "[encoded data removed]",
      "text/plain": [
       "<Figure size 1000x375 with 1 Axes>"
      ]
     },
     "metadata": {},
     "output_type": "display_data"
    }
   ],
   "source": [
    "# generate predictions on the new patients\n",
    "diabetes_y_test_pred = regr.predict(diabetes_X_test)\n",
    "\n",
    "# visualize the results\n",
    "plt.xlabel('Body Mass Index (BMI)')\n",
    "plt.ylabel('Diabetes Risk')\n",
    "l = plt.scatter(diabetes_X_train.loc[:, ['bmi']], diabetes_y_train)\n",
    "plt.scatter(diabetes_X_test.loc[:, ['bmi']], diabetes_y_test, color='red', marker='o')\n",
    "plt.plot(diabetes_X_test.loc[:, ['bmi']], diabetes_y_test_pred, 'x', color='red', mew=3, markersize=8)\n",
    "plt.plot(diabetes_X_test.loc[:, ['bmi']], diabetes_y_test_pred_bmi_only, 'x', color='purple', mew=3, markersize=8)\n",
    "plt.legend(['Initial patients (training data)', 'New patients (unseen test data)',\n",
    "            \"Model predictions on test data (features: all)\", \"Model predictions on test data (features: only BMI)\" ]);"
   ]
  },
  {
   "cell_type": "markdown",
   "metadata": {
    "slideshow": {
     "slide_type": "slide"
    }
   },
   "source": [
    "# Evaluating the learned models\n",
    "\n",
    "We lastly look at the MSE of the models we have fit in this lecture on the training and test datasets.\n",
    "Some trends:\n",
    "\n",
    "1. The train MSE is lower than the test MSE <span style='color: grey'>(not a great predictor, but it's a hard task)</span>\n",
    "2. The model using all the features outperforms the model predicting only from the BMI\n",
    "3. Both models are better than random noise"
   ]
  },
  {
   "cell_type": "code",
   "execution_count": null,
   "metadata": {
    "slideshow": {
     "slide_type": "fragment"
    }
   },
   "outputs": [
    {
     "name": "stdout",
     "output_type": "stream",
     "text": [
      "Training set mean squared error of the linear model using all features: 1144.24\n",
      "Training set mean squared error of the linear model using only the BMI as a feature: 2176.00\n",
      "--------------------------------------------------------------------------------\n",
      "Test set mean squared error of the linear model using all features: 1259.97\n",
      "Test set mean squared error of the linear model using only the BMI as a feature: 3262.00\n",
      "--------------------------------------------------------------------------------\n",
      "Test set mean squared error against random inputs: 14995.66\n"
     ]
    }
   ],
   "source": [
    "from sklearn.metrics import mean_squared_error\n",
    "\n",
    "print('Training set mean squared error of the linear model using all features: %.2f'\n",
    "      % mean_squared_error(diabetes_y_train, diabetes_y_train_pred))\n",
    "print('Training set mean squared error of the linear model using only the BMI as a feature: %.2f'\n",
    "      % mean_squared_error(diabetes_y_train, diabetes_y_train_pred_bmi_only))\n",
    "print('-'*80)\n",
    "print('Test set mean squared error of the linear model using all features: %.2f'\n",
    "      % mean_squared_error(diabetes_y_test, diabetes_y_test_pred))\n",
    "print('Test set mean squared error of the linear model using only the BMI as a feature: %.2f'\n",
    "      % mean_squared_error(diabetes_y_test, diabetes_y_test_pred_bmi_only))\n",
    "print('-'*80)\n",
    "print('Test set mean squared error against random inputs: %.2f'\n",
    "      % mean_squared_error(diabetes_y_test, np.random.randn(*diabetes_y_test_pred.shape)))"
   ]
  },
  {
   "cell_type": "markdown",
   "metadata": {
    "slideshow": {
     "slide_type": "slide"
    }
   },
   "source": [
    "# Summary: Components of a Supervised Machine Learning Problem\n",
    "\n",
    "To apply supervised learning, we define a dataset and a learning algorithm.\n",
    "\n",
    "$$ \\underbrace{\\text{Dataset}}_\\text{Features, Attributes, Targets} + \\underbrace{\\text{Learning Algorithm}}_\\text{Model Class + Objective + Optimizer } \\to \\text{Predictive Model} $$\n",
    "\n",
    "The output is a predictive model that maps inputs to targets. For instance, it can predict targets on new inputs.\n",
    "\n",
    "**Next class:** implementing and optimizing regression models ourselves without `sklearn`"
   ]
  }
 ],
 "metadata": {
  "accelerator": "GPU",
  "celltoolbar": "Slideshow",
  "colab": {
   "collapsed_sections": [],
   "name": "neural-ode.ipynb",
   "provenance": []
  },
  "kernelspec": {
   "display_name": "Python 3",
   "language": "python",
   "name": "python3"
  },
  "language_info": {
   "codemirror_mode": {
    "name": "ipython",
    "version": 3
   },
   "file_extension": ".py",
   "mimetype": "text/x-python",
   "name": "python",
   "nbconvert_exporter": "python",
   "pygments_lexer": "ipython3",
   "version": "3.12.7"
  },
  "rise": {
   "controlsTutorial": false,
   "height": 900,
   "help": false,
   "margin": 0,
   "maxScale": 2,
   "minScale": 0.2,
   "progress": true,
   "scroll": true,
   "theme": "simple",
   "width": 1200
  }
 },
 "nbformat": 4,
 "nbformat_minor": 4
}
